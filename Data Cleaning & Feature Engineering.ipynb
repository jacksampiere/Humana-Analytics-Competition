{
 "cells": [
  {
   "cell_type": "markdown",
   "metadata": {},
   "source": [
    "Outline:\n",
    "* Read in all data to a dataframe called df\n",
    "* Separate categorical data in a dataframe called df_categorical, remove categorical features from df\n",
    "* Reconcile some variables that are falsely interpreted as categorical with df\n",
    "    * We do this by using a temporary dataframe (df_storage), cleaning the data, then rejoining it with df\n",
    "* One-hot encode the data in df_categorical and store it in a new dataframe called df_ohe, then recombine with df\n",
    "* Leverage U.S. Census Gazetteer Files and a government-maintained list of Medicare hospitals in order to engineer a feature called 'hosp_per_sq_mi', a measure of the density of Medicare hospitals in the zip code of each member\n",
    "* Import a list of reduced variables to create the final modified training set\n",
    "\n",
    "Note: Dataframes are not displayed (except Gazetteer and Medicare hospital info) for data privacy reasons."
   ]
  },
  {
   "cell_type": "markdown",
   "metadata": {},
   "source": [
    "Importing libraries:"
   ]
  },
  {
   "cell_type": "code",
   "execution_count": 202,
   "metadata": {},
   "outputs": [],
   "source": [
    "import pandas as pd\n",
    "import numpy as np\n"
   ]
  },
  {
   "cell_type": "markdown",
   "metadata": {},
   "source": [
    "# Data cleaning and one-hot encoding"
   ]
  },
  {
   "cell_type": "markdown",
   "metadata": {},
   "source": [
    "Importing data:"
   ]
  },
  {
   "cell_type": "code",
   "execution_count": 203,
   "metadata": {},
   "outputs": [
    {
     "name": "stderr",
     "output_type": "stream",
     "text": [
      "C:\\Users\\HP\\anaconda3\\lib\\site-packages\\IPython\\core\\interactiveshell.py:3146: DtypeWarning: Columns (80,193) have mixed types.Specify dtype option on import or set low_memory=False.\n",
      "  interactivity=interactivity, compiler=compiler, result=result)\n"
     ]
    },
    {
     "name": "stdout",
     "output_type": "stream",
     "text": [
      "69572 total samples\n",
      "826 total features\n"
     ]
    }
   ],
   "source": [
    "# import training set\n",
    "df = pd.read_csv(\"2020_Competition_Training.csv\")\n",
    "\n",
    "# output number of features\n",
    "print(f'{len(df)} total samples')\n",
    "print(f'{len(df.columns)} total features')\n"
   ]
  },
  {
   "cell_type": "markdown",
   "metadata": {},
   "source": [
    "Separating categorical variables from numeric variables:"
   ]
  },
  {
   "cell_type": "code",
   "execution_count": 204,
   "metadata": {},
   "outputs": [
    {
     "name": "stdout",
     "output_type": "stream",
     "text": [
      "22 categorical variables\n"
     ]
    }
   ],
   "source": [
    "# separate categorical data\n",
    "df_categorical = df.select_dtypes(exclude=['number','bool_'])\n",
    "\n",
    "# output amount of categorical variables\n",
    "print(f'{len(df_categorical.columns)} categorical variables')\n",
    "\n",
    "# remove categorical features from initial df, but retain zip code (we'll use this to merge later)\n",
    "df.drop(list(df_categorical.columns), axis=1, inplace=True)\n",
    "df['zip_cd'] = df_categorical['zip_cd']\n"
   ]
  },
  {
   "cell_type": "markdown",
   "metadata": {},
   "source": [
    "Separate features that were falsely interpreted as categorical:"
   ]
  },
  {
   "cell_type": "code",
   "execution_count": 205,
   "metadata": {},
   "outputs": [
    {
     "name": "stdout",
     "output_type": "stream",
     "text": [
      "69339 nan values in \"hedis_ami\" column\n"
     ]
    },
    {
     "name": "stderr",
     "output_type": "stream",
     "text": [
      "C:\\Users\\HP\\anaconda3\\lib\\site-packages\\pandas\\core\\frame.py:4167: SettingWithCopyWarning: \n",
      "A value is trying to be set on a copy of a slice from a DataFrame\n",
      "\n",
      "See the caveats in the documentation: https://pandas.pydata.org/pandas-docs/stable/user_guide/indexing.html#returning-a-view-versus-a-copy\n",
      "  errors=errors,\n"
     ]
    }
   ],
   "source": [
    "# this row falsely interpreted as categorical due to numerical strings (same with zip code)\n",
    "# store it in a temporary df which we will rejoin with main df after cleaning\n",
    "df_storage = df_categorical[['cons_cmys']].copy()\n",
    "\n",
    "# drop this column since essentially all nan\n",
    "print(f'{df_categorical[\"hedis_ami\"].isnull().sum()} nan values in \"hedis_ami\" column')\n",
    "\n",
    "# remove both of these from categorical data\n",
    "df_categorical.drop(['hedis_ami', 'cons_cmys'], axis=1, inplace=True)\n"
   ]
  },
  {
   "cell_type": "markdown",
   "metadata": {},
   "source": [
    "Cleaning missing data (filled by asterisks, replace these with nan) in storage df"
   ]
  },
  {
   "cell_type": "code",
   "execution_count": 206,
   "metadata": {},
   "outputs": [],
   "source": [
    "df_storage['cons_cmys'].replace('*', np.nan, inplace=True)\n"
   ]
  },
  {
   "cell_type": "markdown",
   "metadata": {},
   "source": [
    "Sending numeric data to df_storage after converting from strings to floats, recombining cleaned numeric strings with main df"
   ]
  },
  {
   "cell_type": "code",
   "execution_count": 207,
   "metadata": {},
   "outputs": [],
   "source": [
    "df_storage['cons_cmys'] = df_storage['cons_cmys'].astype('float64')\n",
    "\n",
    "df = df.join(df_storage)\n"
   ]
  },
  {
   "cell_type": "markdown",
   "metadata": {},
   "source": [
    "Converting Y/N indicators to 1/0 indicators (this happens in the 'hedis' features)"
   ]
  },
  {
   "cell_type": "code",
   "execution_count": 208,
   "metadata": {},
   "outputs": [],
   "source": [
    "# store names of 'hedis' columns for later cleaning\n",
    "hedis_cols = []\n",
    "\n",
    "# iterate through columns, append 'hedis' columns to list\n",
    "for col in df_categorical.columns:\n",
    "    if str(col)[0:5] == 'hedis':\n",
    "        hedis_cols.append(col)\n",
    "        \n",
    "        # convert from Y/N to binary indicators (1/0), making categorical data numeric\n",
    "        df_categorical[col] = df_categorical[col].map({'Y': 1, 'N': 0})\n"
   ]
  },
  {
   "cell_type": "markdown",
   "metadata": {},
   "source": [
    "Separating 'hedis' features into a new dataframe since they are no longer categorical and thus we don't want to one-hot encode them"
   ]
  },
  {
   "cell_type": "code",
   "execution_count": 209,
   "metadata": {},
   "outputs": [],
   "source": [
    "# initialize new dataframe for hedis variables\n",
    "df_hedis = df_categorical[hedis_cols].copy()\n",
    "\n",
    "# remove hedis variables from df_categorical\n",
    "df_categorical.drop(columns = hedis_cols, inplace=True)\n"
   ]
  },
  {
   "cell_type": "markdown",
   "metadata": {},
   "source": [
    "Recombining hedis variables with main df since no longer categorical"
   ]
  },
  {
   "cell_type": "code",
   "execution_count": 210,
   "metadata": {},
   "outputs": [],
   "source": [
    "df = df.join(df_hedis)\n"
   ]
  },
  {
   "cell_type": "markdown",
   "metadata": {},
   "source": [
    "Removing IDs from df_categorical, placing back into df"
   ]
  },
  {
   "cell_type": "code",
   "execution_count": 211,
   "metadata": {},
   "outputs": [],
   "source": [
    " # store ids for later use\n",
    "df_ids = df_categorical[['person_id_syn']].copy()\n",
    "\n",
    "# remove ids since don't want to one-hot encode them\n",
    "df_categorical.drop(columns=['person_id_syn'], inplace=True)\n",
    "\n",
    "# recombine ids with main df\n",
    "df = df.join(df_ids)\n"
   ]
  },
  {
   "cell_type": "markdown",
   "metadata": {},
   "source": [
    "Some quick formatting:"
   ]
  },
  {
   "cell_type": "code",
   "execution_count": 212,
   "metadata": {},
   "outputs": [],
   "source": [
    "# move ID column to front, rename\n",
    "df.insert(0, 'ID', df['person_id_syn'])\n",
    "\n",
    "# drop old ID column\n",
    "df.drop(columns = ['person_id_syn'], inplace = True)\n"
   ]
  },
  {
   "cell_type": "markdown",
   "metadata": {},
   "source": [
    "One-hot encoding:"
   ]
  },
  {
   "cell_type": "code",
   "execution_count": 213,
   "metadata": {},
   "outputs": [],
   "source": [
    "# store column names to loop through later\n",
    "cols_to_ohe = [col for col in df_categorical]\n",
    "\n",
    "# initialize df_categorical with one-hot encoded version of first variable\n",
    "df_ohe = pd.get_dummies(df_categorical.src_platform_cd, prefix='src_plat')\n"
   ]
  },
  {
   "cell_type": "code",
   "execution_count": 214,
   "metadata": {},
   "outputs": [],
   "source": [
    "# don't want to one-hot encode zip code, county code, and state\n",
    "geographic_info = cols_to_ohe[-3:]\n",
    "\n",
    "# store columns that we actually want one-hot encode\n",
    "cols_ohe = cols_to_ohe[:-3]\n"
   ]
  },
  {
   "cell_type": "code",
   "execution_count": 215,
   "metadata": {},
   "outputs": [],
   "source": [
    "# looping through, skipping first variable ('src_platform_cd') since we already one-hot encoded it to initialize df_ohe\n",
    "for col in cols_ohe[1:]:\n",
    "\n",
    "    # use temporary dataframe to store one-hot encoded version of feature\n",
    "    this_df = pd.get_dummies(df_categorical[col], prefix = col)\n",
    "    \n",
    "    # join with all other one-hot encoded features\n",
    "    df_ohe = df_ohe.join(this_df)\n"
   ]
  },
  {
   "cell_type": "code",
   "execution_count": 216,
   "metadata": {},
   "outputs": [],
   "source": [
    "# dropping one-hot encoded columns that arise from missing data\n",
    "df_ohe.drop(columns = ['cms_ra_factor_type_cd_*'], inplace = True)\n"
   ]
  },
  {
   "cell_type": "code",
   "execution_count": 217,
   "metadata": {},
   "outputs": [],
   "source": [
    "# joining one-hot encoded data with main df\n",
    "df = df.join(df_ohe)\n"
   ]
  },
  {
   "cell_type": "markdown",
   "metadata": {},
   "source": [
    "# Creating 'hosp_per_sq_mi' feature:"
   ]
  },
  {
   "cell_type": "markdown",
   "metadata": {},
   "source": [
    "Read in zip code data:"
   ]
  },
  {
   "cell_type": "code",
   "execution_count": 218,
   "metadata": {},
   "outputs": [
    {
     "data": {
      "text/html": [
       "<div>\n",
       "<style scoped>\n",
       "    .dataframe tbody tr th:only-of-type {\n",
       "        vertical-align: middle;\n",
       "    }\n",
       "\n",
       "    .dataframe tbody tr th {\n",
       "        vertical-align: top;\n",
       "    }\n",
       "\n",
       "    .dataframe thead th {\n",
       "        text-align: right;\n",
       "    }\n",
       "</style>\n",
       "<table border=\"1\" class=\"dataframe\">\n",
       "  <thead>\n",
       "    <tr style=\"text-align: right;\">\n",
       "      <th></th>\n",
       "      <th>GEOID</th>\n",
       "      <th>ALAND</th>\n",
       "      <th>AWATER</th>\n",
       "      <th>ALAND_SQMI</th>\n",
       "      <th>AWATER_SQMI</th>\n",
       "      <th>INTPTLAT</th>\n",
       "      <th>INTPTLONG</th>\n",
       "    </tr>\n",
       "  </thead>\n",
       "  <tbody>\n",
       "    <tr>\n",
       "      <th>0</th>\n",
       "      <td>601</td>\n",
       "      <td>166659747</td>\n",
       "      <td>799292</td>\n",
       "      <td>64.348</td>\n",
       "      <td>0.309</td>\n",
       "      <td>18.180555</td>\n",
       "      <td>-66.749961</td>\n",
       "    </tr>\n",
       "    <tr>\n",
       "      <th>1</th>\n",
       "      <td>602</td>\n",
       "      <td>79307534</td>\n",
       "      <td>4428428</td>\n",
       "      <td>30.621</td>\n",
       "      <td>1.710</td>\n",
       "      <td>18.361945</td>\n",
       "      <td>-67.175597</td>\n",
       "    </tr>\n",
       "    <tr>\n",
       "      <th>2</th>\n",
       "      <td>603</td>\n",
       "      <td>81887188</td>\n",
       "      <td>181412</td>\n",
       "      <td>31.617</td>\n",
       "      <td>0.070</td>\n",
       "      <td>18.455183</td>\n",
       "      <td>-67.119887</td>\n",
       "    </tr>\n",
       "    <tr>\n",
       "      <th>3</th>\n",
       "      <td>606</td>\n",
       "      <td>109579993</td>\n",
       "      <td>12487</td>\n",
       "      <td>42.309</td>\n",
       "      <td>0.005</td>\n",
       "      <td>18.158327</td>\n",
       "      <td>-66.932928</td>\n",
       "    </tr>\n",
       "    <tr>\n",
       "      <th>4</th>\n",
       "      <td>610</td>\n",
       "      <td>93013428</td>\n",
       "      <td>4172059</td>\n",
       "      <td>35.913</td>\n",
       "      <td>1.611</td>\n",
       "      <td>18.294032</td>\n",
       "      <td>-67.127156</td>\n",
       "    </tr>\n",
       "    <tr>\n",
       "      <th>...</th>\n",
       "      <td>...</td>\n",
       "      <td>...</td>\n",
       "      <td>...</td>\n",
       "      <td>...</td>\n",
       "      <td>...</td>\n",
       "      <td>...</td>\n",
       "      <td>...</td>\n",
       "    </tr>\n",
       "    <tr>\n",
       "      <th>33139</th>\n",
       "      <td>99923</td>\n",
       "      <td>42162326</td>\n",
       "      <td>2117</td>\n",
       "      <td>16.279</td>\n",
       "      <td>0.001</td>\n",
       "      <td>56.000518</td>\n",
       "      <td>-130.037474</td>\n",
       "    </tr>\n",
       "    <tr>\n",
       "      <th>33140</th>\n",
       "      <td>99925</td>\n",
       "      <td>144071036</td>\n",
       "      <td>34333408</td>\n",
       "      <td>55.626</td>\n",
       "      <td>13.256</td>\n",
       "      <td>55.550203</td>\n",
       "      <td>-132.945947</td>\n",
       "    </tr>\n",
       "    <tr>\n",
       "      <th>33141</th>\n",
       "      <td>99926</td>\n",
       "      <td>343944587</td>\n",
       "      <td>292859014</td>\n",
       "      <td>132.798</td>\n",
       "      <td>113.074</td>\n",
       "      <td>55.138352</td>\n",
       "      <td>-131.470425</td>\n",
       "    </tr>\n",
       "    <tr>\n",
       "      <th>33142</th>\n",
       "      <td>99927</td>\n",
       "      <td>589690080</td>\n",
       "      <td>18001568</td>\n",
       "      <td>227.681</td>\n",
       "      <td>6.950</td>\n",
       "      <td>56.239062</td>\n",
       "      <td>-133.457924</td>\n",
       "    </tr>\n",
       "    <tr>\n",
       "      <th>33143</th>\n",
       "      <td>99929</td>\n",
       "      <td>5635963115</td>\n",
       "      <td>637274788</td>\n",
       "      <td>2176.058</td>\n",
       "      <td>246.053</td>\n",
       "      <td>56.370538</td>\n",
       "      <td>-131.693453</td>\n",
       "    </tr>\n",
       "  </tbody>\n",
       "</table>\n",
       "<p>33144 rows × 7 columns</p>\n",
       "</div>"
      ],
      "text/plain": [
       "       GEOID       ALAND     AWATER  ALAND_SQMI  AWATER_SQMI   INTPTLAT  \\\n",
       "0        601   166659747     799292      64.348        0.309  18.180555   \n",
       "1        602    79307534    4428428      30.621        1.710  18.361945   \n",
       "2        603    81887188     181412      31.617        0.070  18.455183   \n",
       "3        606   109579993      12487      42.309        0.005  18.158327   \n",
       "4        610    93013428    4172059      35.913        1.611  18.294032   \n",
       "...      ...         ...        ...         ...          ...        ...   \n",
       "33139  99923    42162326       2117      16.279        0.001  56.000518   \n",
       "33140  99925   144071036   34333408      55.626       13.256  55.550203   \n",
       "33141  99926   343944587  292859014     132.798      113.074  55.138352   \n",
       "33142  99927   589690080   18001568     227.681        6.950  56.239062   \n",
       "33143  99929  5635963115  637274788    2176.058      246.053  56.370538   \n",
       "\n",
       "       INTPTLONG                                                                                                                                    \n",
       "0                                             -66.749961                                                                                            \n",
       "1                                             -67.175597                                                                                            \n",
       "2                                             -67.119887                                                                                            \n",
       "3                                             -66.932928                                                                                            \n",
       "4                                             -67.127156                                                                                            \n",
       "...                                                  ...                                                                                            \n",
       "33139                                        -130.037474                                                                                            \n",
       "33140                                        -132.945947                                                                                            \n",
       "33141                                        -131.470425                                                                                            \n",
       "33142                                        -133.457924                                                                                            \n",
       "33143                                        -131.693453                                                                                            \n",
       "\n",
       "[33144 rows x 7 columns]"
      ]
     },
     "execution_count": 218,
     "metadata": {},
     "output_type": "execute_result"
    }
   ],
   "source": [
    "df_zip = pd.read_csv(\"2019_Gaz_zcta_national.txt\", delimiter = '\\t')\n",
    "df_zip\n"
   ]
  },
  {
   "cell_type": "markdown",
   "metadata": {},
   "source": [
    "Some data cleaning on zip code data:"
   ]
  },
  {
   "cell_type": "code",
   "execution_count": 219,
   "metadata": {},
   "outputs": [],
   "source": [
    "# convert GEOID to strings so we can merge on zip code\n",
    "df_zip['GEOID'] = df_zip['GEOID'].astype(str)\n",
    "\n",
    "# rename columns of zip code data\n",
    "df_zip = df_zip.rename(columns = {\"GEOID\": \"zip_cd\", \"ALAND_SQMI\" : \"zip_sq_mi\"})\n"
   ]
  },
  {
   "cell_type": "markdown",
   "metadata": {},
   "source": [
    "Merging zip code data with categorical data:"
   ]
  },
  {
   "cell_type": "code",
   "execution_count": 220,
   "metadata": {},
   "outputs": [],
   "source": [
    "df_categorical = df_categorical.merge(df_zip, how = 'left', on = 'zip_cd')\n"
   ]
  },
  {
   "cell_type": "markdown",
   "metadata": {},
   "source": [
    "Dropping unnecessary columns:"
   ]
  },
  {
   "cell_type": "code",
   "execution_count": 221,
   "metadata": {},
   "outputs": [],
   "source": [
    "df_categorical = df_categorical.drop(columns = ['ALAND', 'AWATER', 'AWATER_SQMI', 'INTPTLAT'])\n"
   ]
  },
  {
   "cell_type": "markdown",
   "metadata": {},
   "source": [
    "Read in Medicare hospital data:"
   ]
  },
  {
   "cell_type": "code",
   "execution_count": 222,
   "metadata": {
    "jupyter": {
     "outputs_hidden": true
    }
   },
   "outputs": [
    {
     "data": {
      "text/html": [
       "<div>\n",
       "<style scoped>\n",
       "    .dataframe tbody tr th:only-of-type {\n",
       "        vertical-align: middle;\n",
       "    }\n",
       "\n",
       "    .dataframe tbody tr th {\n",
       "        vertical-align: top;\n",
       "    }\n",
       "\n",
       "    .dataframe thead th {\n",
       "        text-align: right;\n",
       "    }\n",
       "</style>\n",
       "<table border=\"1\" class=\"dataframe\">\n",
       "  <thead>\n",
       "    <tr style=\"text-align: right;\">\n",
       "      <th></th>\n",
       "      <th>Facility ID</th>\n",
       "      <th>Facility Name</th>\n",
       "      <th>Address</th>\n",
       "      <th>City</th>\n",
       "      <th>State</th>\n",
       "      <th>ZIP Code</th>\n",
       "      <th>County Name</th>\n",
       "      <th>Phone Number</th>\n",
       "      <th>Hospital Type</th>\n",
       "      <th>Hospital Ownership</th>\n",
       "      <th>...</th>\n",
       "      <th>Readmission national comparison footnote</th>\n",
       "      <th>Patient experience national comparison</th>\n",
       "      <th>Patient experience national comparison footnote</th>\n",
       "      <th>Effectiveness of care national comparison</th>\n",
       "      <th>Effectiveness of care national comparison footnote</th>\n",
       "      <th>Timeliness of care national comparison</th>\n",
       "      <th>Timeliness of care national comparison footnote</th>\n",
       "      <th>Efficient use of medical imaging national comparison</th>\n",
       "      <th>Efficient use of medical imaging national comparison footnote</th>\n",
       "      <th>Location</th>\n",
       "    </tr>\n",
       "  </thead>\n",
       "  <tbody>\n",
       "    <tr>\n",
       "      <th>0</th>\n",
       "      <td>044022</td>\n",
       "      <td>CONWAY BEHAVIORAL HEALTH</td>\n",
       "      <td>2255 STURGIS ROAD</td>\n",
       "      <td>CONWAY</td>\n",
       "      <td>AR</td>\n",
       "      <td>72034</td>\n",
       "      <td>FAULKNER</td>\n",
       "      <td>(501) 205-0011</td>\n",
       "      <td>Psychiatric</td>\n",
       "      <td>Proprietary</td>\n",
       "      <td>...</td>\n",
       "      <td>19.0</td>\n",
       "      <td>Not Available</td>\n",
       "      <td>19.0</td>\n",
       "      <td>Not Available</td>\n",
       "      <td>19.0</td>\n",
       "      <td>Not Available</td>\n",
       "      <td>19.0</td>\n",
       "      <td>Not Available</td>\n",
       "      <td>19.0</td>\n",
       "      <td>NaN</td>\n",
       "    </tr>\n",
       "    <tr>\n",
       "      <th>1</th>\n",
       "      <td>054154</td>\n",
       "      <td>SAN JOSE BEHAVIORAL HEALTH</td>\n",
       "      <td>455 SILICON VALLEY BOULEVARD</td>\n",
       "      <td>SAN JOSE</td>\n",
       "      <td>CA</td>\n",
       "      <td>95138</td>\n",
       "      <td>SANTA CLARA</td>\n",
       "      <td>(669) 234-5959</td>\n",
       "      <td>Psychiatric</td>\n",
       "      <td>Proprietary</td>\n",
       "      <td>...</td>\n",
       "      <td>19.0</td>\n",
       "      <td>Not Available</td>\n",
       "      <td>19.0</td>\n",
       "      <td>Not Available</td>\n",
       "      <td>19.0</td>\n",
       "      <td>Not Available</td>\n",
       "      <td>19.0</td>\n",
       "      <td>Not Available</td>\n",
       "      <td>19.0</td>\n",
       "      <td>POINT (-121.77291599999998 37.246742)</td>\n",
       "    </tr>\n",
       "    <tr>\n",
       "      <th>2</th>\n",
       "      <td>141328</td>\n",
       "      <td>HARDIN COUNTY GENERAL HOSPITAL &amp; CLINIC</td>\n",
       "      <td>FERRELL ROAD</td>\n",
       "      <td>ROSICLARE</td>\n",
       "      <td>IL</td>\n",
       "      <td>62982</td>\n",
       "      <td>HARDIN</td>\n",
       "      <td>(618) 285-6634</td>\n",
       "      <td>Critical Access Hospitals</td>\n",
       "      <td>Voluntary non-profit - Private</td>\n",
       "      <td>...</td>\n",
       "      <td>NaN</td>\n",
       "      <td>Not Available</td>\n",
       "      <td>16.0</td>\n",
       "      <td>Not Available</td>\n",
       "      <td>16.0</td>\n",
       "      <td>Not Available</td>\n",
       "      <td>5.0</td>\n",
       "      <td>Not Available</td>\n",
       "      <td>5.0</td>\n",
       "      <td>NaN</td>\n",
       "    </tr>\n",
       "    <tr>\n",
       "      <th>3</th>\n",
       "      <td>194089</td>\n",
       "      <td>GENESIS BEHAVIORAL HOSPITAL</td>\n",
       "      <td>606 LATIOLAIS ROAD</td>\n",
       "      <td>BREAUX BRIDGE</td>\n",
       "      <td>LA</td>\n",
       "      <td>70517</td>\n",
       "      <td>ST. MARTIN</td>\n",
       "      <td>(337) 442-6254</td>\n",
       "      <td>Psychiatric</td>\n",
       "      <td>Proprietary</td>\n",
       "      <td>...</td>\n",
       "      <td>19.0</td>\n",
       "      <td>Not Available</td>\n",
       "      <td>19.0</td>\n",
       "      <td>Not Available</td>\n",
       "      <td>19.0</td>\n",
       "      <td>Not Available</td>\n",
       "      <td>19.0</td>\n",
       "      <td>Not Available</td>\n",
       "      <td>19.0</td>\n",
       "      <td>NaN</td>\n",
       "    </tr>\n",
       "    <tr>\n",
       "      <th>4</th>\n",
       "      <td>194114</td>\n",
       "      <td>RIVER PLACE BEHAVIORAL HEALTH</td>\n",
       "      <td>500 RUE DE SANTE</td>\n",
       "      <td>LA PLACE</td>\n",
       "      <td>LA</td>\n",
       "      <td>70068</td>\n",
       "      <td>ST. JOHN BAPTIST</td>\n",
       "      <td>(985) 444-5100</td>\n",
       "      <td>Psychiatric</td>\n",
       "      <td>Proprietary</td>\n",
       "      <td>...</td>\n",
       "      <td>19.0</td>\n",
       "      <td>Not Available</td>\n",
       "      <td>19.0</td>\n",
       "      <td>Not Available</td>\n",
       "      <td>19.0</td>\n",
       "      <td>Not Available</td>\n",
       "      <td>19.0</td>\n",
       "      <td>Not Available</td>\n",
       "      <td>19.0</td>\n",
       "      <td>POINT (-90.514023 30.071081)</td>\n",
       "    </tr>\n",
       "    <tr>\n",
       "      <th>...</th>\n",
       "      <td>...</td>\n",
       "      <td>...</td>\n",
       "      <td>...</td>\n",
       "      <td>...</td>\n",
       "      <td>...</td>\n",
       "      <td>...</td>\n",
       "      <td>...</td>\n",
       "      <td>...</td>\n",
       "      <td>...</td>\n",
       "      <td>...</td>\n",
       "      <td>...</td>\n",
       "      <td>...</td>\n",
       "      <td>...</td>\n",
       "      <td>...</td>\n",
       "      <td>...</td>\n",
       "      <td>...</td>\n",
       "      <td>...</td>\n",
       "      <td>...</td>\n",
       "      <td>...</td>\n",
       "      <td>...</td>\n",
       "      <td>...</td>\n",
       "    </tr>\n",
       "    <tr>\n",
       "      <th>5315</th>\n",
       "      <td>180024</td>\n",
       "      <td>SPRING VIEW HOSPITAL</td>\n",
       "      <td>320 LORETTO ROAD</td>\n",
       "      <td>LEBANON</td>\n",
       "      <td>KY</td>\n",
       "      <td>40033</td>\n",
       "      <td>MARION</td>\n",
       "      <td>(270) 692-5145</td>\n",
       "      <td>Acute Care Hospitals</td>\n",
       "      <td>Proprietary</td>\n",
       "      <td>...</td>\n",
       "      <td>NaN</td>\n",
       "      <td>Same as the national average</td>\n",
       "      <td>NaN</td>\n",
       "      <td>Same as the national average</td>\n",
       "      <td>NaN</td>\n",
       "      <td>Same as the national average</td>\n",
       "      <td>NaN</td>\n",
       "      <td>Same as the national average</td>\n",
       "      <td>NaN</td>\n",
       "      <td>POINT (-85.259397 37.570325)</td>\n",
       "    </tr>\n",
       "    <tr>\n",
       "      <th>5316</th>\n",
       "      <td>364040</td>\n",
       "      <td>MENTAL HEALTH SERVICES FOR CLARK AND MADISON COS</td>\n",
       "      <td>474 NORTH YELLOW SPRINGS STREET</td>\n",
       "      <td>SPRINGFIELD</td>\n",
       "      <td>OH</td>\n",
       "      <td>45504</td>\n",
       "      <td>CLARK</td>\n",
       "      <td>(937) 399-9500</td>\n",
       "      <td>Psychiatric</td>\n",
       "      <td>Proprietary</td>\n",
       "      <td>...</td>\n",
       "      <td>19.0</td>\n",
       "      <td>Not Available</td>\n",
       "      <td>19.0</td>\n",
       "      <td>Not Available</td>\n",
       "      <td>19.0</td>\n",
       "      <td>Not Available</td>\n",
       "      <td>19.0</td>\n",
       "      <td>Not Available</td>\n",
       "      <td>19.0</td>\n",
       "      <td>POINT (-83.817429 39.930766)</td>\n",
       "    </tr>\n",
       "    <tr>\n",
       "      <th>5317</th>\n",
       "      <td>454088</td>\n",
       "      <td>RIO GRANDE STATE CENTER</td>\n",
       "      <td>1401 RANGERVILLE ROAD</td>\n",
       "      <td>HARLINGEN</td>\n",
       "      <td>TX</td>\n",
       "      <td>78550</td>\n",
       "      <td>CAMERON</td>\n",
       "      <td>(956) 364-8000</td>\n",
       "      <td>Psychiatric</td>\n",
       "      <td>Government - State</td>\n",
       "      <td>...</td>\n",
       "      <td>19.0</td>\n",
       "      <td>Not Available</td>\n",
       "      <td>19.0</td>\n",
       "      <td>Not Available</td>\n",
       "      <td>19.0</td>\n",
       "      <td>Not Available</td>\n",
       "      <td>19.0</td>\n",
       "      <td>Not Available</td>\n",
       "      <td>19.0</td>\n",
       "      <td>POINT (-97.708011 26.16082)</td>\n",
       "    </tr>\n",
       "    <tr>\n",
       "      <th>5318</th>\n",
       "      <td>100276</td>\n",
       "      <td>BROWARD HEALTH CORAL SPRINGS</td>\n",
       "      <td>3000 CORAL HILLS DR</td>\n",
       "      <td>CORAL SPRINGS</td>\n",
       "      <td>FL</td>\n",
       "      <td>33065</td>\n",
       "      <td>BROWARD</td>\n",
       "      <td>(954) 344-3000</td>\n",
       "      <td>Acute Care Hospitals</td>\n",
       "      <td>Government - Hospital District or Authority</td>\n",
       "      <td>...</td>\n",
       "      <td>NaN</td>\n",
       "      <td>Below the national average</td>\n",
       "      <td>NaN</td>\n",
       "      <td>Above the national average</td>\n",
       "      <td>NaN</td>\n",
       "      <td>Same as the national average</td>\n",
       "      <td>NaN</td>\n",
       "      <td>Not Available</td>\n",
       "      <td>5.0</td>\n",
       "      <td>POINT (-80.254161 26.268779)</td>\n",
       "    </tr>\n",
       "    <tr>\n",
       "      <th>5319</th>\n",
       "      <td>263304</td>\n",
       "      <td>SHRINER HOSPITAL FOR CHILDREN</td>\n",
       "      <td>4400 CLAYTON AVE</td>\n",
       "      <td>SAINT LOUIS</td>\n",
       "      <td>MO</td>\n",
       "      <td>63110</td>\n",
       "      <td>ST. LOUIS CITY</td>\n",
       "      <td>(314) 432-3600</td>\n",
       "      <td>Childrens</td>\n",
       "      <td>Voluntary non-profit - Private</td>\n",
       "      <td>...</td>\n",
       "      <td>19.0</td>\n",
       "      <td>Not Available</td>\n",
       "      <td>19.0</td>\n",
       "      <td>Not Available</td>\n",
       "      <td>19.0</td>\n",
       "      <td>Not Available</td>\n",
       "      <td>19.0</td>\n",
       "      <td>Not Available</td>\n",
       "      <td>19.0</td>\n",
       "      <td>POINT (-90.257821 38.632989)</td>\n",
       "    </tr>\n",
       "  </tbody>\n",
       "</table>\n",
       "<p>5320 rows × 29 columns</p>\n",
       "</div>"
      ],
      "text/plain": [
       "     Facility ID                                     Facility Name  \\\n",
       "0         044022                          CONWAY BEHAVIORAL HEALTH   \n",
       "1         054154                        SAN JOSE BEHAVIORAL HEALTH   \n",
       "2         141328           HARDIN COUNTY GENERAL HOSPITAL & CLINIC   \n",
       "3         194089                       GENESIS BEHAVIORAL HOSPITAL   \n",
       "4         194114                     RIVER PLACE BEHAVIORAL HEALTH   \n",
       "...          ...                                               ...   \n",
       "5315      180024                              SPRING VIEW HOSPITAL   \n",
       "5316      364040  MENTAL HEALTH SERVICES FOR CLARK AND MADISON COS   \n",
       "5317      454088                           RIO GRANDE STATE CENTER   \n",
       "5318      100276                      BROWARD HEALTH CORAL SPRINGS   \n",
       "5319      263304                     SHRINER HOSPITAL FOR CHILDREN   \n",
       "\n",
       "                              Address           City State  ZIP Code  \\\n",
       "0                   2255 STURGIS ROAD         CONWAY    AR     72034   \n",
       "1        455 SILICON VALLEY BOULEVARD       SAN JOSE    CA     95138   \n",
       "2                        FERRELL ROAD      ROSICLARE    IL     62982   \n",
       "3                  606 LATIOLAIS ROAD  BREAUX BRIDGE    LA     70517   \n",
       "4                    500 RUE DE SANTE       LA PLACE    LA     70068   \n",
       "...                               ...            ...   ...       ...   \n",
       "5315                 320 LORETTO ROAD        LEBANON    KY     40033   \n",
       "5316  474 NORTH YELLOW SPRINGS STREET    SPRINGFIELD    OH     45504   \n",
       "5317            1401 RANGERVILLE ROAD      HARLINGEN    TX     78550   \n",
       "5318              3000 CORAL HILLS DR  CORAL SPRINGS    FL     33065   \n",
       "5319                 4400 CLAYTON AVE    SAINT LOUIS    MO     63110   \n",
       "\n",
       "           County Name    Phone Number              Hospital Type  \\\n",
       "0             FAULKNER  (501) 205-0011                Psychiatric   \n",
       "1          SANTA CLARA  (669) 234-5959                Psychiatric   \n",
       "2               HARDIN  (618) 285-6634  Critical Access Hospitals   \n",
       "3           ST. MARTIN  (337) 442-6254                Psychiatric   \n",
       "4     ST. JOHN BAPTIST  (985) 444-5100                Psychiatric   \n",
       "...                ...             ...                        ...   \n",
       "5315            MARION  (270) 692-5145       Acute Care Hospitals   \n",
       "5316             CLARK  (937) 399-9500                Psychiatric   \n",
       "5317           CAMERON  (956) 364-8000                Psychiatric   \n",
       "5318           BROWARD  (954) 344-3000       Acute Care Hospitals   \n",
       "5319    ST. LOUIS CITY  (314) 432-3600                  Childrens   \n",
       "\n",
       "                               Hospital Ownership  ...  \\\n",
       "0                                     Proprietary  ...   \n",
       "1                                     Proprietary  ...   \n",
       "2                  Voluntary non-profit - Private  ...   \n",
       "3                                     Proprietary  ...   \n",
       "4                                     Proprietary  ...   \n",
       "...                                           ...  ...   \n",
       "5315                                  Proprietary  ...   \n",
       "5316                                  Proprietary  ...   \n",
       "5317                           Government - State  ...   \n",
       "5318  Government - Hospital District or Authority  ...   \n",
       "5319               Voluntary non-profit - Private  ...   \n",
       "\n",
       "     Readmission national comparison footnote  \\\n",
       "0                                        19.0   \n",
       "1                                        19.0   \n",
       "2                                         NaN   \n",
       "3                                        19.0   \n",
       "4                                        19.0   \n",
       "...                                       ...   \n",
       "5315                                      NaN   \n",
       "5316                                     19.0   \n",
       "5317                                     19.0   \n",
       "5318                                      NaN   \n",
       "5319                                     19.0   \n",
       "\n",
       "     Patient experience national comparison  \\\n",
       "0                             Not Available   \n",
       "1                             Not Available   \n",
       "2                             Not Available   \n",
       "3                             Not Available   \n",
       "4                             Not Available   \n",
       "...                                     ...   \n",
       "5315           Same as the national average   \n",
       "5316                          Not Available   \n",
       "5317                          Not Available   \n",
       "5318             Below the national average   \n",
       "5319                          Not Available   \n",
       "\n",
       "     Patient experience national comparison footnote  \\\n",
       "0                                               19.0   \n",
       "1                                               19.0   \n",
       "2                                               16.0   \n",
       "3                                               19.0   \n",
       "4                                               19.0   \n",
       "...                                              ...   \n",
       "5315                                             NaN   \n",
       "5316                                            19.0   \n",
       "5317                                            19.0   \n",
       "5318                                             NaN   \n",
       "5319                                            19.0   \n",
       "\n",
       "      Effectiveness of care national comparison  \\\n",
       "0                                 Not Available   \n",
       "1                                 Not Available   \n",
       "2                                 Not Available   \n",
       "3                                 Not Available   \n",
       "4                                 Not Available   \n",
       "...                                         ...   \n",
       "5315               Same as the national average   \n",
       "5316                              Not Available   \n",
       "5317                              Not Available   \n",
       "5318                 Above the national average   \n",
       "5319                              Not Available   \n",
       "\n",
       "     Effectiveness of care national comparison footnote  \\\n",
       "0                                                  19.0   \n",
       "1                                                  19.0   \n",
       "2                                                  16.0   \n",
       "3                                                  19.0   \n",
       "4                                                  19.0   \n",
       "...                                                 ...   \n",
       "5315                                                NaN   \n",
       "5316                                               19.0   \n",
       "5317                                               19.0   \n",
       "5318                                                NaN   \n",
       "5319                                               19.0   \n",
       "\n",
       "      Timeliness of care national comparison  \\\n",
       "0                              Not Available   \n",
       "1                              Not Available   \n",
       "2                              Not Available   \n",
       "3                              Not Available   \n",
       "4                              Not Available   \n",
       "...                                      ...   \n",
       "5315            Same as the national average   \n",
       "5316                           Not Available   \n",
       "5317                           Not Available   \n",
       "5318            Same as the national average   \n",
       "5319                           Not Available   \n",
       "\n",
       "     Timeliness of care national comparison footnote  \\\n",
       "0                                               19.0   \n",
       "1                                               19.0   \n",
       "2                                                5.0   \n",
       "3                                               19.0   \n",
       "4                                               19.0   \n",
       "...                                              ...   \n",
       "5315                                             NaN   \n",
       "5316                                            19.0   \n",
       "5317                                            19.0   \n",
       "5318                                             NaN   \n",
       "5319                                            19.0   \n",
       "\n",
       "      Efficient use of medical imaging national comparison  \\\n",
       "0                                         Not Available      \n",
       "1                                         Not Available      \n",
       "2                                         Not Available      \n",
       "3                                         Not Available      \n",
       "4                                         Not Available      \n",
       "...                                                 ...      \n",
       "5315                       Same as the national average      \n",
       "5316                                      Not Available      \n",
       "5317                                      Not Available      \n",
       "5318                                      Not Available      \n",
       "5319                                      Not Available      \n",
       "\n",
       "     Efficient use of medical imaging national comparison footnote  \\\n",
       "0                                                  19.0              \n",
       "1                                                  19.0              \n",
       "2                                                   5.0              \n",
       "3                                                  19.0              \n",
       "4                                                  19.0              \n",
       "...                                                 ...              \n",
       "5315                                                NaN              \n",
       "5316                                               19.0              \n",
       "5317                                               19.0              \n",
       "5318                                                5.0              \n",
       "5319                                               19.0              \n",
       "\n",
       "                                   Location  \n",
       "0                                       NaN  \n",
       "1     POINT (-121.77291599999998 37.246742)  \n",
       "2                                       NaN  \n",
       "3                                       NaN  \n",
       "4              POINT (-90.514023 30.071081)  \n",
       "...                                     ...  \n",
       "5315           POINT (-85.259397 37.570325)  \n",
       "5316           POINT (-83.817429 39.930766)  \n",
       "5317            POINT (-97.708011 26.16082)  \n",
       "5318           POINT (-80.254161 26.268779)  \n",
       "5319           POINT (-90.257821 38.632989)  \n",
       "\n",
       "[5320 rows x 29 columns]"
      ]
     },
     "execution_count": 222,
     "metadata": {},
     "output_type": "execute_result"
    }
   ],
   "source": [
    "df_medicare = pd.read_csv(\"Hospital_General_Information.csv\")\n",
    "df_medicare\n"
   ]
  },
  {
   "cell_type": "markdown",
   "metadata": {},
   "source": [
    "Determine which zip codes are in member data:"
   ]
  },
  {
   "cell_type": "code",
   "execution_count": 223,
   "metadata": {
    "jupyter": {
     "outputs_hidden": true
    }
   },
   "outputs": [],
   "source": [
    "zip_code_list = list(df_categorical['zip_cd'].unique())\n"
   ]
  },
  {
   "cell_type": "markdown",
   "metadata": {},
   "source": [
    "Make dataframe of member zip codes:"
   ]
  },
  {
   "cell_type": "code",
   "execution_count": 224,
   "metadata": {},
   "outputs": [],
   "source": [
    "df_zc = pd.DataFrame(zip_code_list, columns = ['zip code'])\n",
    "\n",
    "# initialize number of medicare hospitals, then reassign later\n",
    "df_zc['num_MC_hosp'] = [0 for i in range(len(df_zc))]\n"
   ]
  },
  {
   "cell_type": "markdown",
   "metadata": {},
   "source": [
    "Loop through member zip codes, counting hospitals and assigning in dataframe:"
   ]
  },
  {
   "cell_type": "code",
   "execution_count": 225,
   "metadata": {},
   "outputs": [
    {
     "name": "stdout",
     "output_type": "stream",
     "text": [
      "Zip code string is not numeric: other\n"
     ]
    }
   ],
   "source": [
    "num_hosp_list = []\n",
    "\n",
    "for index, row in df_zc.iterrows():\n",
    "\n",
    "    # grab zip code\n",
    "    zc_str = row[0]\n",
    "\n",
    "    # ensure that zip code is a valid type\n",
    "    try:\n",
    "        zc_int = int(zc_str)\n",
    "    except:\n",
    "        # display any potential issues\n",
    "        print('Zip code string is not numeric:', zc_str)\n",
    "        continue\n",
    "    \n",
    "    # count the number of Medicare hospitals in each member zip code\n",
    "    if zc_int in df_medicare['ZIP Code'].unique():\n",
    "        \n",
    "        address_rows = df_medicare.loc[df_medicare['ZIP Code'] == zc_int] # find addresses in the given zip code\n",
    "        addresses = list(address_rows['Address'])\n",
    "\n",
    "        # count hospitals\n",
    "        num_hosp = len(addresses)\n",
    "\n",
    "        # assign amount of hospitals to corresponding zip code in dataframe\n",
    "        df_zc.loc[index,'num_MC_hosp'] = num_hosp\n",
    "        \n",
    "        num_hosp_list.append(num_hosp)\n"
   ]
  },
  {
   "cell_type": "markdown",
   "metadata": {},
   "source": [
    "Rename columns so we can merge on 'zip_cd' when recombining with categorical data:"
   ]
  },
  {
   "cell_type": "code",
   "execution_count": 226,
   "metadata": {},
   "outputs": [],
   "source": [
    "df_zc.columns = ['zip_cd', 'num_MC_hosp']\n"
   ]
  },
  {
   "cell_type": "markdown",
   "metadata": {},
   "source": [
    "Merging with categorical data on zip code:"
   ]
  },
  {
   "cell_type": "code",
   "execution_count": 227,
   "metadata": {},
   "outputs": [],
   "source": [
    "df_categorical = df_categorical.merge(df_zc, how = 'left', on = 'zip_cd')\n"
   ]
  },
  {
   "cell_type": "markdown",
   "metadata": {},
   "source": [
    "Creating 'hosp_per_sq_mi' feature:"
   ]
  },
  {
   "cell_type": "code",
   "execution_count": 228,
   "metadata": {},
   "outputs": [],
   "source": [
    "df_categorical['hosp_per_sq_mi'] = df_categorical['num_MC_hosp'] / df_categorical['zip_sq_mi']\n"
   ]
  },
  {
   "cell_type": "markdown",
   "metadata": {},
   "source": [
    "Extract 'hosp_per_sq_mi' from categorical data along with zip code (which we'll use to merge) in another dataframe"
   ]
  },
  {
   "cell_type": "code",
   "execution_count": 229,
   "metadata": {},
   "outputs": [],
   "source": [
    "df_cat_new = df_categorical[['zip_cd', 'hosp_per_sq_mi']].copy()\n"
   ]
  },
  {
   "cell_type": "markdown",
   "metadata": {},
   "source": [
    "Transfer feature to main df:"
   ]
  },
  {
   "cell_type": "code",
   "execution_count": 230,
   "metadata": {},
   "outputs": [],
   "source": [
    "df['hosp_per_sq_mi'] = df_cat_new['hosp_per_sq_mi']\n"
   ]
  },
  {
   "cell_type": "code",
   "execution_count": 231,
   "metadata": {},
   "outputs": [],
   "source": [
    "df.drop(columns = ['zip_cd'], inplace = True) # don't need this anymore (only used to get hosp_per_sq_mile)\n"
   ]
  },
  {
   "cell_type": "markdown",
   "metadata": {},
   "source": [
    "Columns starting with 'pdc' have 1.1 as values that represent missing data, replace with nan"
   ]
  },
  {
   "cell_type": "code",
   "execution_count": 232,
   "metadata": {},
   "outputs": [],
   "source": [
    "for col in df.columns:\n",
    "    if col.startswith('pdc'):\n",
    "        df[col].replace(1.1, np.nan, inplace = True)\n"
   ]
  },
  {
   "cell_type": "markdown",
   "metadata": {},
   "source": [
    "The cleaned dataframe 'df' is now all variables with our additional 'hosp_per_sq_mi' feature.\n",
    "\n",
    "Next, we want to bring in another dataframe (df_reduced) with only a subset of variables that we will use in the modeling process.\n"
   ]
  },
  {
   "cell_type": "code",
   "execution_count": 233,
   "metadata": {},
   "outputs": [],
   "source": [
    "# import a manually created excel spreadsheet of the variable names that we want to maintain\n",
    "vars_reduced = pd.read_excel(\"Vars_Reduced.xlsx\")\n",
    "\n",
    "# convert to list\n",
    "var_list = list(vars_reduced['Variable'])\n",
    "# can iterate through this and extract from df the variables that we want\n"
   ]
  },
  {
   "cell_type": "code",
   "execution_count": 234,
   "metadata": {},
   "outputs": [],
   "source": [
    "# first, initialize df_reduced with IDs of each member and the target variable (0/1 for transportation issues)\n",
    "# also need to add our feature that we engineered with external data, hosp_per_sq_mile\n",
    "df_reduced = pd.DataFrame(df['ID'])\n",
    "df_reduced['transportation_issues'] = df['transportation_issues']\n",
    "df_reduced['hosp_per_sq_mi'] = df['hosp_per_sq_mi']\n"
   ]
  },
  {
   "cell_type": "code",
   "execution_count": 235,
   "metadata": {},
   "outputs": [],
   "source": [
    "# making a list of one-hot encoded variables to compare with one-hot encoded variables in df_reduced\n",
    "ohe_var_test = []\n",
    "\n",
    "for var in var_list:\n",
    "    if var in df.columns:\n",
    "        continue # only want to look at columns that aren't a perfect match (which is the encoded columns)\n",
    "    for col in df.columns:\n",
    "        if col.startswith(var):\n",
    "            ohe_var_test.append(col)\n"
   ]
  },
  {
   "cell_type": "code",
   "execution_count": 236,
   "metadata": {},
   "outputs": [],
   "source": [
    "# adding all selected variables to df_reduced\n",
    "ohe_vars = [] # tracking encoded variables\n",
    "\n",
    "for var in var_list:\n",
    "    \n",
    "    # if the column name is the same, simply add it to the final dataframe\n",
    "    try:\n",
    "        df_reduced[var] = df[var]\n",
    "        \n",
    "    # categorical variables already one-hot encoded, need to account for this \n",
    "    except:\n",
    "        for col in df.columns:\n",
    "            if col.startswith(var):\n",
    "                df_reduced[col] = df[col]\n",
    "                ohe_vars.append(col)\n",
    "                \n",
    "assert(ohe_var_test == ohe_vars) # checking that ohe variables were all included properly\n"
   ]
  },
  {
   "cell_type": "markdown",
   "metadata": {},
   "source": [
    "Dropping 'pdc_dep' since primarily nan values:"
   ]
  },
  {
   "cell_type": "code",
   "execution_count": 238,
   "metadata": {},
   "outputs": [],
   "source": [
    "df_reduced.drop(columns=['pdc_dep'], inplace=True)"
   ]
  },
  {
   "cell_type": "markdown",
   "metadata": {},
   "source": [
    "Replacing nan values with column medians:"
   ]
  },
  {
   "cell_type": "code",
   "execution_count": 239,
   "metadata": {},
   "outputs": [],
   "source": [
    "for col in list(df.columns):\n",
    "    try:\n",
    "        df[col].replace(np.nan, df[col].median(), inplace=True)\n",
    "    except:\n",
    "        assert(df[col].isna().sum() == 0)\n",
    "        \n",
    "# making sure it worked\n",
    "for col in list(df.columns):\n",
    "    if df[col].isna().sum() != 0:\n",
    "        print(col, df[col].isna().sum())\n"
   ]
  },
  {
   "cell_type": "markdown",
   "metadata": {},
   "source": [
    "#### Exporting as CSV:"
   ]
  },
  {
   "cell_type": "code",
   "execution_count": 240,
   "metadata": {},
   "outputs": [],
   "source": [
    "df_reduced.to_csv('Cleaned_Data.csv', index = False)\n"
   ]
  }
 ],
 "metadata": {
  "kernelspec": {
   "display_name": "Python 3",
   "language": "python",
   "name": "python3"
  },
  "language_info": {
   "codemirror_mode": {
    "name": "ipython",
    "version": 3
   },
   "file_extension": ".py",
   "mimetype": "text/x-python",
   "name": "python",
   "nbconvert_exporter": "python",
   "pygments_lexer": "ipython3",
   "version": "3.7.9"
  }
 },
 "nbformat": 4,
 "nbformat_minor": 4
}
